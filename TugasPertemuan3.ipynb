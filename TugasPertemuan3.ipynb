{
  "cells": [
    {
      "cell_type": "markdown",
      "metadata": {
        "id": "_uslae_-EGcQ"
      },
      "source": [
        "# Tugas Pertemuan 3 - Heuristic Searching"
      ]
    },
    {
      "cell_type": "markdown",
      "metadata": {
        "id": "nEaOQdyIuD9t"
      },
      "source": [
        "## Best First Search"
      ]
    },
    {
      "cell_type": "code",
      "execution_count": null,
      "metadata": {
        "colab": {
          "base_uri": "https://localhost:8080/"
        },
        "id": "3Xz3IssVuC9A",
        "outputId": "8c83056a-600a-4acb-bb6a-7f83bb2dc711"
      },
      "outputs": [
        {
          "name": "stdout",
          "output_type": "stream",
          "text": [
            "6 3 1 2 0 4 5 \n"
          ]
        }
      ],
      "source": [
        "from queue import PriorityQueue\n",
        "\n",
        "def best_first_search(actual_Src, target, n):\n",
        "    visited = [False] * n\n",
        "\n",
        "    pq = PriorityQueue()\n",
        "    pq.put((0, actual_Src))\n",
        "    visited[actual_Src] = True\n",
        "    \n",
        "    while pq.empty() == False:\n",
        "        u = pq.get()[1]\n",
        "\n",
        "        print(u, end=\" \")\n",
        "        if u == target:\n",
        "            break\n",
        "        \n",
        "        for v, c in graph[u]:\n",
        "            if visited[v] == False:\n",
        "                visited[v] = True\n",
        "                pq.put((c, v))\n",
        "\n",
        "    print()\n",
        "    printPQ(pq)\n",
        "\n",
        "def printPQ(pq):\n",
        "    while not pq.empty():\n",
        "        item = pq.get()\n",
        "        print(item)\n",
        "\n",
        "def addedge(x, y, cost):\n",
        "    graph[x].append((y, cost))\n",
        "    graph[y].append((x, cost))\n",
        "\n",
        "v = 7\n",
        "graph = [[] for i in range(v)]\n",
        "\n",
        "addedge(0, 1, 5)\n",
        "addedge(0, 2, 10)\n",
        "addedge(1, 2, 2)\n",
        "addedge(1, 4, 1)\n",
        "addedge(2, 5, 4)\n",
        "addedge(3, 1, 1)\n",
        "addedge(3, 4, 4)\n",
        "addedge(4, 5, 3)\n",
        "addedge(6, 0, 3)\n",
        "addedge(6, 3, 2)\n",
        "\n",
        "source = 6\n",
        "target = 5\n",
        "\n",
        "best_first_search(source, target, v)"
      ]
    },
    {
      "cell_type": "markdown",
      "metadata": {
        "id": "il1h8FR15AyO"
      },
      "source": [
        "##  Greedy Best First Search\n",
        "\n"
      ]
    },
    {
      "cell_type": "code",
      "execution_count": 1,
      "metadata": {
        "id": "L20TVZhbuZQP"
      },
      "outputs": [],
      "source": [
        "import queue\n",
        "import matplotlib.pyplot as plt\n",
        "\n",
        "def getHeuristics():\n",
        "  heuristics = {}\n",
        "  f = open('heuristics.txt')\n",
        "  for i in f.readlines():\n",
        "    node_heuristics_val = i.split()\n",
        "    heuristics[node_heuristics_val[0]] = int(node_heuristics_val[1])\n",
        "  return heuristics\n",
        "\n",
        "def getCity():\n",
        "  city = {}\n",
        "  citiesCode = {}\n",
        "  f = open('cities.txt')\n",
        "  j = 1\n",
        "  for i in f.readlines():\n",
        "    node_city_val = i.split()\n",
        "    city[node_city_val[0]] = [int(node_city_val[1]), int(node_city_val[2])]\n",
        "\n",
        "    citiesCode[j] = node_city_val[0]\n",
        "    j += 1\n",
        "  return city, citiesCode\n",
        "\n",
        "def createGraph():\n",
        "  graph = {}\n",
        "  file = open('citiesGraph.txt')\n",
        "  for i in file.readlines():\n",
        "    node_val = i.split()\n",
        "\n",
        "    if node_val[0] in graph and node_val[1] in graph:\n",
        "      c = graph.get(node_val[0])\n",
        "      c.append([node_val[1], node_val[2]])\n",
        "      graph.update({node_val[0]: c})\n",
        "\n",
        "      c = graph.get(node_val[1])\n",
        "      c.append([node_val[0], node_val[2]])\n",
        "      graph.update({node_val[1]: c})\n",
        "    \n",
        "    elif node_val[0] in graph:\n",
        "      c = graph.get(node_val[0])\n",
        "      c.append([node_val[1], node_val[2]])\n",
        "      graph.update({node_val[0]: c})\n",
        "\n",
        "      graph[node_val[1]] = [[node_val[0], node_val[2]]]\n",
        "\n",
        "    elif node_val[1] in graph:\n",
        "      c = graph.get(node_val[1])\n",
        "      c.append([node_val[0], node_val[2]])\n",
        "      graph.update({node_val[1]: c})\n",
        "\n",
        "      graph[node_val[0]] = [[node_val[1], node_val[2]]]\n",
        "    \n",
        "    else:\n",
        "      graph[node_val[0]] = [[node_val[1], node_val[2]]]\n",
        "      graph[node_val[1]] = [[node_val[0], node_val[2]]]\n",
        "\n",
        "  return graph\n",
        "\n",
        "def GBFS(startNode, heuristics, graph, goalNode='Bucharest'):\n",
        "  priorityQueue = queue.PriorityQueue()\n",
        "  priorityQueue.put((heuristics[startNode], startNode))\n",
        "\n",
        "  path = []\n",
        "\n",
        "  while priorityQueue.empty() == False:\n",
        "    current = priorityQueue.get()[1]\n",
        "    path.append(current)\n",
        "\n",
        "    if current == goalNode:\n",
        "      break\n",
        "\n",
        "    priorityQueue = queue.PriorityQueue()\n",
        "\n",
        "    for i in graph[current]:\n",
        "      if i[0] not in path:\n",
        "        priorityQueue.put((heuristics[i[0]], i[0]))\n",
        "        \n",
        "  return path\n",
        "\n",
        "# drawing map of answer\n",
        "def drawMap(city, gbfs, graph):\n",
        "  for i, j in city.items():\n",
        "    plt.plot(j[0], j[1], 'ro')\n",
        "    plt.annotate(i, (j[0] + 5, j[1]))\n",
        "\n",
        "    for k in graph[i]:\n",
        "      n = city[k[0]]\n",
        "      plt.plot([j[0], n[0]], [j[1], n[1]], \"gray\")\n",
        "      \n",
        "  for i in range(len(gbfs)):\n",
        "    try:\n",
        "      first = city[gbfs[i]]\n",
        "      secend = city[gbfs[i + 1]]\n",
        "\n",
        "      plt.plot([first[0], secend[0]], [first[1], secend[1]], 'green')\n",
        "    except:\n",
        "      continue\n",
        "  \n",
        "  plt.errorbar(1, 1, label='GBFS', color='green')\n",
        "  plt.legend(loc='lower left')\n",
        "\n",
        "  plt.show()"
      ]
    },
    {
      "cell_type": "code",
      "execution_count": 2,
      "metadata": {
        "colab": {
          "base_uri": "https://localhost:8080/",
          "height": 345
        },
        "id": "s1jBK0UJ_Kst",
        "outputId": "42abd898-93ab-42a2-e4b5-b00db236b574"
      },
      "outputs": [
        {
          "output_type": "error",
          "ename": "FileNotFoundError",
          "evalue": "ignored",
          "traceback": [
            "\u001b[0;31m---------------------------------------------------------------------------\u001b[0m",
            "\u001b[0;31mFileNotFoundError\u001b[0m                         Traceback (most recent call last)",
            "\u001b[0;32m<ipython-input-2-de3bff9cc1ca>\u001b[0m in \u001b[0;36m<module>\u001b[0;34m\u001b[0m\n\u001b[1;32m     20\u001b[0m     \u001b[0mdrawMap\u001b[0m\u001b[0;34m(\u001b[0m\u001b[0mcity\u001b[0m\u001b[0;34m,\u001b[0m \u001b[0mgbfs\u001b[0m\u001b[0;34m,\u001b[0m \u001b[0mgraph\u001b[0m\u001b[0;34m)\u001b[0m\u001b[0;34m\u001b[0m\u001b[0;34m\u001b[0m\u001b[0m\n\u001b[1;32m     21\u001b[0m \u001b[0;34m\u001b[0m\u001b[0m\n\u001b[0;32m---> 22\u001b[0;31m \u001b[0mmain\u001b[0m\u001b[0;34m(\u001b[0m\u001b[0;34m)\u001b[0m\u001b[0;34m\u001b[0m\u001b[0;34m\u001b[0m\u001b[0m\n\u001b[0m",
            "\u001b[0;32m<ipython-input-2-de3bff9cc1ca>\u001b[0m in \u001b[0;36mmain\u001b[0;34m()\u001b[0m\n\u001b[1;32m      1\u001b[0m \u001b[0;32mdef\u001b[0m \u001b[0mmain\u001b[0m\u001b[0;34m(\u001b[0m\u001b[0;34m)\u001b[0m\u001b[0;34m:\u001b[0m\u001b[0;34m\u001b[0m\u001b[0;34m\u001b[0m\u001b[0m\n\u001b[0;32m----> 2\u001b[0;31m   \u001b[0mheuristics\u001b[0m \u001b[0;34m=\u001b[0m \u001b[0mgetHeuristics\u001b[0m\u001b[0;34m(\u001b[0m\u001b[0;34m)\u001b[0m\u001b[0;34m\u001b[0m\u001b[0;34m\u001b[0m\u001b[0m\n\u001b[0m\u001b[1;32m      3\u001b[0m   \u001b[0mgraph\u001b[0m \u001b[0;34m=\u001b[0m \u001b[0mcreateGraph\u001b[0m\u001b[0;34m(\u001b[0m\u001b[0;34m)\u001b[0m\u001b[0;34m\u001b[0m\u001b[0;34m\u001b[0m\u001b[0m\n\u001b[1;32m      4\u001b[0m   \u001b[0mcity\u001b[0m\u001b[0;34m,\u001b[0m \u001b[0mcitiesCode\u001b[0m \u001b[0;34m=\u001b[0m \u001b[0mgetCity\u001b[0m\u001b[0;34m(\u001b[0m\u001b[0;34m)\u001b[0m\u001b[0;34m\u001b[0m\u001b[0;34m\u001b[0m\u001b[0m\n\u001b[1;32m      5\u001b[0m \u001b[0;34m\u001b[0m\u001b[0m\n",
            "\u001b[0;32m<ipython-input-1-40642afc852b>\u001b[0m in \u001b[0;36mgetHeuristics\u001b[0;34m()\u001b[0m\n\u001b[1;32m      4\u001b[0m \u001b[0;32mdef\u001b[0m \u001b[0mgetHeuristics\u001b[0m\u001b[0;34m(\u001b[0m\u001b[0;34m)\u001b[0m\u001b[0;34m:\u001b[0m\u001b[0;34m\u001b[0m\u001b[0;34m\u001b[0m\u001b[0m\n\u001b[1;32m      5\u001b[0m   \u001b[0mheuristics\u001b[0m \u001b[0;34m=\u001b[0m \u001b[0;34m{\u001b[0m\u001b[0;34m}\u001b[0m\u001b[0;34m\u001b[0m\u001b[0;34m\u001b[0m\u001b[0m\n\u001b[0;32m----> 6\u001b[0;31m   \u001b[0mf\u001b[0m \u001b[0;34m=\u001b[0m \u001b[0mopen\u001b[0m\u001b[0;34m(\u001b[0m\u001b[0;34m'heuristics.txt'\u001b[0m\u001b[0;34m)\u001b[0m\u001b[0;34m\u001b[0m\u001b[0;34m\u001b[0m\u001b[0m\n\u001b[0m\u001b[1;32m      7\u001b[0m   \u001b[0;32mfor\u001b[0m \u001b[0mi\u001b[0m \u001b[0;32min\u001b[0m \u001b[0mf\u001b[0m\u001b[0;34m.\u001b[0m\u001b[0mreadlines\u001b[0m\u001b[0;34m(\u001b[0m\u001b[0;34m)\u001b[0m\u001b[0;34m:\u001b[0m\u001b[0;34m\u001b[0m\u001b[0;34m\u001b[0m\u001b[0m\n\u001b[1;32m      8\u001b[0m     \u001b[0mnode_heuristics_val\u001b[0m \u001b[0;34m=\u001b[0m \u001b[0mi\u001b[0m\u001b[0;34m.\u001b[0m\u001b[0msplit\u001b[0m\u001b[0;34m(\u001b[0m\u001b[0;34m)\u001b[0m\u001b[0;34m\u001b[0m\u001b[0;34m\u001b[0m\u001b[0m\n",
            "\u001b[0;31mFileNotFoundError\u001b[0m: [Errno 2] No such file or directory: 'heuristics.txt'"
          ]
        }
      ],
      "source": [
        "def main():\n",
        "  heuristics = getHeuristics()\n",
        "  graph = createGraph()\n",
        "  city, citiesCode = getCity()\n",
        "\n",
        "  for i, j in citiesCode.items():\n",
        "    print(i ,j)\n",
        "  \n",
        "  while True:\n",
        "    inputCode = int(input('Masukan nomor Kota Asal (0 untuk keluar): '))\n",
        "\n",
        "    if inputCode == 0:\n",
        "      break\n",
        "\n",
        "    cityName = citiesCode[inputCode]\n",
        "\n",
        "    gbfs = GBFS(cityName, heuristics, graph)\n",
        "    print('GBFS => ', gbfs)\n",
        "\n",
        "    drawMap(city, gbfs, graph)\n",
        "\n",
        "main()"
      ]
    },
    {
      "cell_type": "markdown",
      "metadata": {
        "id": "ZP7X-pdg5Jw8"
      },
      "source": [
        "## A* Search"
      ]
    },
    {
      "cell_type": "code",
      "execution_count": 3,
      "metadata": {
        "id": "pxEQBFPq5QWX"
      },
      "outputs": [],
      "source": [
        "def Astar(startNode, heuristics, graph, goalNode='Bucharest'):\n",
        "  priorityQueue = queue.PriorityQueue()\n",
        "  distance = 0\n",
        "  path = []\n",
        "\n",
        "  priorityQueue.put((heuristics[startNode] + distance, [startNode, 0]))\n",
        "\n",
        "  while priorityQueue.empty() == False :\n",
        "    current = priorityQueue.get()[1]\n",
        "    path.append(current[0])\n",
        "    distance += int(current[1])\n",
        "\n",
        "    if current[0] == goalNode :\n",
        "      break\n",
        "\n",
        "    priorityQueue = queue.PriorityQueue()\n",
        "\n",
        "    for i in graph[current[0]]:\n",
        "      if i[0] not in path:\n",
        "        priorityQueue.put((heuristics[i[0]] + int(i[1]) + distance, i))\n",
        "  \n",
        "  return path\n",
        "\n",
        "def drawMap(city, gbfs, astar, graph):\n",
        "  for i, j in city.items():\n",
        "    plt.plot(j[0], j[1], 'ro')\n",
        "    plt.annotate(i, (j[0] + 5, j[1]))\n",
        "\n",
        "    for k in graph[i]:\n",
        "      n = city[k[0]]\n",
        "      plt.plot([j[0], n[0]], [j[1], n[1]], \"gray\")\n",
        "      \n",
        "  for i in range(len(gbfs)):\n",
        "    try:\n",
        "      first = city[gbfs[i]]\n",
        "      secend = city[gbfs[i + 1]]\n",
        "\n",
        "      plt.plot([first[0], secend[0]], [first[1], secend[1]], 'green')\n",
        "    except:\n",
        "      continue\n",
        "\n",
        "  for i in range(len(astar)):\n",
        "    try:\n",
        "      first = city[astar[i]]\n",
        "      secend = city[astar[i + 1]]\n",
        "\n",
        "      plt.plot([first[0], secend[0]], [first[1], secend[1]], 'green')\n",
        "    except:\n",
        "      continue\n",
        "\n",
        "  plt.errorbar(1, 1, label='GBFS', color='green')\n",
        "  plt.errorbar(1, 1, label='ASTAR', color='blue')\n",
        "  plt.legend(loc='lower left')\n",
        "\n",
        "  plt.show()"
      ]
    },
    {
      "cell_type": "code",
      "execution_count": 4,
      "metadata": {
        "colab": {
          "base_uri": "https://localhost:8080/",
          "height": 345
        },
        "id": "4zHAd87L_ZQm",
        "outputId": "a3acdc71-2652-45a3-91f9-c22b77967470"
      },
      "outputs": [
        {
          "output_type": "error",
          "ename": "FileNotFoundError",
          "evalue": "ignored",
          "traceback": [
            "\u001b[0;31m---------------------------------------------------------------------------\u001b[0m",
            "\u001b[0;31mFileNotFoundError\u001b[0m                         Traceback (most recent call last)",
            "\u001b[0;32m<ipython-input-4-2b93c53aa838>\u001b[0m in \u001b[0;36m<module>\u001b[0;34m\u001b[0m\n\u001b[1;32m     22\u001b[0m     \u001b[0mdrawMap\u001b[0m\u001b[0;34m(\u001b[0m\u001b[0mcity\u001b[0m\u001b[0;34m,\u001b[0m \u001b[0mgbfs\u001b[0m\u001b[0;34m,\u001b[0m \u001b[0mastar\u001b[0m\u001b[0;34m,\u001b[0m \u001b[0mgraph\u001b[0m\u001b[0;34m)\u001b[0m\u001b[0;34m\u001b[0m\u001b[0;34m\u001b[0m\u001b[0m\n\u001b[1;32m     23\u001b[0m \u001b[0;34m\u001b[0m\u001b[0m\n\u001b[0;32m---> 24\u001b[0;31m \u001b[0mmain\u001b[0m\u001b[0;34m(\u001b[0m\u001b[0;34m)\u001b[0m\u001b[0;34m\u001b[0m\u001b[0;34m\u001b[0m\u001b[0m\n\u001b[0m",
            "\u001b[0;32m<ipython-input-4-2b93c53aa838>\u001b[0m in \u001b[0;36mmain\u001b[0;34m()\u001b[0m\n\u001b[1;32m      1\u001b[0m \u001b[0;32mdef\u001b[0m \u001b[0mmain\u001b[0m\u001b[0;34m(\u001b[0m\u001b[0;34m)\u001b[0m\u001b[0;34m:\u001b[0m\u001b[0;34m\u001b[0m\u001b[0;34m\u001b[0m\u001b[0m\n\u001b[0;32m----> 2\u001b[0;31m   \u001b[0mheuristic\u001b[0m \u001b[0;34m=\u001b[0m \u001b[0mgetHeuristics\u001b[0m\u001b[0;34m(\u001b[0m\u001b[0;34m)\u001b[0m\u001b[0;34m\u001b[0m\u001b[0;34m\u001b[0m\u001b[0m\n\u001b[0m\u001b[1;32m      3\u001b[0m   \u001b[0mgraph\u001b[0m \u001b[0;34m=\u001b[0m \u001b[0mcreateGraph\u001b[0m\u001b[0;34m(\u001b[0m\u001b[0;34m)\u001b[0m\u001b[0;34m\u001b[0m\u001b[0;34m\u001b[0m\u001b[0m\n\u001b[1;32m      4\u001b[0m   \u001b[0mcity\u001b[0m\u001b[0;34m,\u001b[0m \u001b[0mcitiesCode\u001b[0m \u001b[0;34m=\u001b[0m \u001b[0mgetCity\u001b[0m\u001b[0;34m(\u001b[0m\u001b[0;34m)\u001b[0m\u001b[0;34m\u001b[0m\u001b[0;34m\u001b[0m\u001b[0m\n\u001b[1;32m      5\u001b[0m \u001b[0;34m\u001b[0m\u001b[0m\n",
            "\u001b[0;32m<ipython-input-1-40642afc852b>\u001b[0m in \u001b[0;36mgetHeuristics\u001b[0;34m()\u001b[0m\n\u001b[1;32m      4\u001b[0m \u001b[0;32mdef\u001b[0m \u001b[0mgetHeuristics\u001b[0m\u001b[0;34m(\u001b[0m\u001b[0;34m)\u001b[0m\u001b[0;34m:\u001b[0m\u001b[0;34m\u001b[0m\u001b[0;34m\u001b[0m\u001b[0m\n\u001b[1;32m      5\u001b[0m   \u001b[0mheuristics\u001b[0m \u001b[0;34m=\u001b[0m \u001b[0;34m{\u001b[0m\u001b[0;34m}\u001b[0m\u001b[0;34m\u001b[0m\u001b[0;34m\u001b[0m\u001b[0m\n\u001b[0;32m----> 6\u001b[0;31m   \u001b[0mf\u001b[0m \u001b[0;34m=\u001b[0m \u001b[0mopen\u001b[0m\u001b[0;34m(\u001b[0m\u001b[0;34m'heuristics.txt'\u001b[0m\u001b[0;34m)\u001b[0m\u001b[0;34m\u001b[0m\u001b[0;34m\u001b[0m\u001b[0m\n\u001b[0m\u001b[1;32m      7\u001b[0m   \u001b[0;32mfor\u001b[0m \u001b[0mi\u001b[0m \u001b[0;32min\u001b[0m \u001b[0mf\u001b[0m\u001b[0;34m.\u001b[0m\u001b[0mreadlines\u001b[0m\u001b[0;34m(\u001b[0m\u001b[0;34m)\u001b[0m\u001b[0;34m:\u001b[0m\u001b[0;34m\u001b[0m\u001b[0;34m\u001b[0m\u001b[0m\n\u001b[1;32m      8\u001b[0m     \u001b[0mnode_heuristics_val\u001b[0m \u001b[0;34m=\u001b[0m \u001b[0mi\u001b[0m\u001b[0;34m.\u001b[0m\u001b[0msplit\u001b[0m\u001b[0;34m(\u001b[0m\u001b[0;34m)\u001b[0m\u001b[0;34m\u001b[0m\u001b[0;34m\u001b[0m\u001b[0m\n",
            "\u001b[0;31mFileNotFoundError\u001b[0m: [Errno 2] No such file or directory: 'heuristics.txt'"
          ]
        }
      ],
      "source": [
        "def main():\n",
        "  heuristic = getHeuristics()\n",
        "  graph = createGraph()\n",
        "  city, citiesCode = getCity()\n",
        "\n",
        "  for i, j in citiesCode.items():\n",
        "    print(i ,j)\n",
        "  \n",
        "  while True:\n",
        "    inputCode = int(input('Masukan nomor Kota Asal (0 untuk keluar): '))\n",
        "\n",
        "    if inputCode == 0:\n",
        "      break\n",
        "\n",
        "    cityName = citiesCode[inputCode]\n",
        "\n",
        "    gbfs = GBFS(cityName, heuristic, graph)\n",
        "    astar = Astar(cityName, heuristic, graph)\n",
        "    print('GBFS => ', gbfs)\n",
        "    print('ASTAR => ', astar)\n",
        "\n",
        "    drawMap(city, gbfs, astar, graph)\n",
        "\n",
        "main()"
      ]
    }
  ],
  "metadata": {
    "colab": {
      "provenance": []
    },
    "kernelspec": {
      "display_name": "Python 3",
      "name": "python3"
    },
    "language_info": {
      "name": "python"
    }
  },
  "nbformat": 4,
  "nbformat_minor": 0
}